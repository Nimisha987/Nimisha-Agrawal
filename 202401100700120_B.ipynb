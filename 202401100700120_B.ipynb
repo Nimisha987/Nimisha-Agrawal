{
  "nbformat": 4,
  "nbformat_minor": 0,
  "metadata": {
    "colab": {
      "provenance": []
    },
    "kernelspec": {
      "name": "python3",
      "display_name": "Python 3"
    },
    "language_info": {
      "name": "python"
    }
  },
  "cells": [
    {
      "cell_type": "code",
      "execution_count": null,
      "metadata": {
        "id": "a7ZafH2J_Uzv"
      },
      "outputs": [],
      "source": [
        "# Main program starts here\n",
        "total_price = 0\n",
        "items = []\n",
        "\n",
        "# Number of items to input\n",
        "num_items = int(input(\"Enter the number of items: \"))\n",
        "\n",
        "# Loop to input items\n",
        "for i in range(num_items):\n",
        "    item_name = input(f\"Enter name of item {i+1}: \")\n",
        "    item_price = float(input(f\"Enter price of {item_name}: $\"))\n",
        "    item_discount = float(input(f\"Enter discount percentage for {item_name}: \"))\n",
        "\n",
        "    # Calculate item discount\n",
        "    discount = (item_discount / 100) * item_price\n",
        "    final_item_price = item_price - discount\n",
        "\n",
        "    # Append item details to the list\n",
        "    items.append((item_name, item_price, item_discount, final_item_price))\n",
        "\n",
        "    # Add final item price to the total price\n",
        "    total_price += final_item_price\n",
        "\n",
        "# Display each item details\n",
        "print(\"\\nItems Summary:\")\n",
        "for item in items:\n",
        "    print(f\"{item[0]}: Original Price = ${item[1]:.2f}, Discount = {item[2]}%, Final Price = ${item[3]:.2f}\")\n",
        "\n",
        "# Apply overall discount on the total price\n",
        "overall_discount = float(input(\"\\nEnter the overall discount percentage: \"))\n",
        "overall_discount_amount = (overall_discount / 100) * total_price\n",
        "final_total_price = total_price - overall_discount_amount\n",
        "\n",
        "# Display the final total price after overall discount\n",
        "print(f\"\\nTotal price before overall discount: ${total_price:.2f}\")\n",
        "print(f\"Overall discount applied: ${overall_discount_amount:.2f}\")\n",
        "print(f\"Final total price after overall discount: ${final_total_price:.2f}\")"
      ]
    }
  ]
}